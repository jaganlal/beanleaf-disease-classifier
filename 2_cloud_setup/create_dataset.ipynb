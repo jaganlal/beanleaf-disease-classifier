{
  "cells": [
    {
      "cell_type": "code",
      "execution_count": 1,
      "metadata": {
        "id": "Xhr2MTzi59Nl"
      },
      "outputs": [
        {
          "name": "stderr",
          "output_type": "stream",
          "text": [
            "2022-09-14 11:41:13.134096: I tensorflow/core/platform/cpu_feature_guard.cc:193] This TensorFlow binary is optimized with oneAPI Deep Neural Network Library (oneDNN) to use the following CPU instructions in performance-critical operations:  AVX2 FMA\n",
            "To enable them in other operations, rebuild TensorFlow with the appropriate compiler flags.\n"
          ]
        }
      ],
      "source": [
        "import azureml\n",
        "import json\n",
        "\n",
        "from azureml.core.model import Model, InferenceConfig\n",
        "from azureml.core import Workspace, Datastore, Experiment\n",
        "from azureml.core.dataset import Dataset\n",
        "\n",
        "import tensorflow as tf\n",
        "from IPython.display import Image, display\n",
        "\n",
        "import matplotlib.pyplot as plt\n",
        "import tensorflow_hub as hub\n",
        "\n",
        "import numpy as np\n",
        "\n",
        "import warnings\n",
        "warnings.filterwarnings('ignore')"
      ]
    },
    {
      "cell_type": "code",
      "execution_count": 2,
      "metadata": {
        "colab": {
          "base_uri": "https://localhost:8080/"
        },
        "id": "kLUVuKMFNmn7",
        "outputId": "02062515-1d24-4948-f8e7-cf8a66feefb5"
      },
      "outputs": [],
      "source": [
        "import os\n",
        "\n",
        "subscription_id = os.getenv(\"SUBSCRIPTION_ID\", default=\"d6233897-5c9f-47f9-8507-6d4ada2d5183\")\n",
        "resource_group = os.getenv(\"RESOURCE_GROUP\", default=\"RG_Jaganlal\")\n",
        "workspace_name = os.getenv(\"WORKSPACE_NAME\", default=\"beanleaf_classifier\")\n",
        "workspace_region = os.getenv(\"WORKSPACE_REGION\", default=\"centralus\")\n",
        "cluster_name = os.getenv(\"CLUSTER_NAME\", default=\"beanleaf-classifier-cluster\")\n",
        "dataset_path_in_datastore = os.getenv(\"BLOB_STORAGE_PATH\", default=\"beanleaf\")\n",
        "data_local_directory = os.getenv(\"DATA_LOCAL_DIRECTORY\", default=\"../0_data/beanleaf_dataset/\")\n",
        "experiment_name = os.getenv(\"EXPERIMENT_NAME\", default=\"beanleaf_classifier_experiment\")\n",
        "blob_container = os.getenv(\"BLOB_CONTAINER\", default=\"beanleaf_dataset\")"
      ]
    },
    {
      "cell_type": "code",
      "execution_count": 8,
      "metadata": {
        "colab": {
          "base_uri": "https://localhost:8080/"
        },
        "id": "rxjcFE7q6jYx",
        "outputId": "faca540e-19fe-4c08-fb5d-83441308c59d"
      },
      "outputs": [
        {
          "data": {
            "text/plain": [
              "Workspace.create(name='beanleaf_classifier', subscription_id='d6233897-5c9f-47f9-8507-6d4ada2d5183', resource_group='RG_Jaganlal')"
            ]
          },
          "execution_count": 8,
          "metadata": {},
          "output_type": "execute_result"
        }
      ],
      "source": [
        "# ws = Workspace.from_config()\n",
        "ws = Workspace.get(name=workspace_name,\n",
        "                    subscription_id=subscription_id,\n",
        "                    resource_group=resource_group)\n",
        "ws"
      ]
    },
    {
      "cell_type": "code",
      "execution_count": 10,
      "metadata": {},
      "outputs": [
        {
          "data": {
            "text/plain": [
              "AmlCompute(workspace=Workspace.create(name='beanleaf_classifier', subscription_id='d6233897-5c9f-47f9-8507-6d4ada2d5183', resource_group='RG_Jaganlal'), name=beanleaf-classifier-cluster, id=/subscriptions/d6233897-5c9f-47f9-8507-6d4ada2d5183/resourceGroups/RG_Jaganlal/providers/Microsoft.MachineLearningServices/workspaces/beanleaf_classifier/computes/beanleaf-classifier-cluster, type=AmlCompute, provisioning_state=Succeeded, location=centralus, tags={})"
            ]
          },
          "execution_count": 10,
          "metadata": {},
          "output_type": "execute_result"
        }
      ],
      "source": [
        "from azureml.core import ComputeTarget\n",
        "target = ComputeTarget(ws, cluster_name)\n",
        "target"
      ]
    },
    {
      "cell_type": "markdown",
      "metadata": {},
      "source": [
        "# Connect to Workspace"
      ]
    },
    {
      "cell_type": "code",
      "execution_count": 5,
      "metadata": {
        "id": "ev5mV-qU8FtC"
      },
      "outputs": [
        {
          "name": "stdout",
          "output_type": "stream",
          "text": [
            "Compute Target: beanleaf-classifier-cluster\n",
            "Datastore: workspaceblobstore\n",
            "Experiment: BeanClassifierExperiment\n"
          ]
        }
      ],
      "source": [
        "# Connect to compute for training\n",
        "compute_target = ComputeTarget(workspace=ws, name=cluster_name)\n",
        "print(\"Compute Target:\", compute_target.name)\n",
        "\n",
        "# Connect to the datastore for the training images\n",
        "ds = Datastore.get_default(ws)\n",
        "print(\"Datastore:\", ds.name)\n",
        "\n",
        "# Connect to the experiment\n",
        "exp = Experiment(workspace=ws, name=experiment_name)\n",
        "print(\"Experiment:\", exp.name)"
      ]
    },
    {
      "cell_type": "code",
      "execution_count": null,
      "metadata": {
        "colab": {
          "base_uri": "https://localhost:8080/"
        },
        "id": "C_sY8dM78Lf7",
        "outputId": "bd713a3f-ac79-4e02-8d68-084062af2c21"
      },
      "outputs": [],
      "source": [
        "from azureml.data.datapath import DataPath\n",
        "\n",
        "# Upload data to AzureML Datastore\n",
        "ds = ws.get_default_datastore()\n",
        "ds = Dataset.File.upload_directory(src_dir=data_local_directory,\n",
        "            target=DataPath(ds, 'beanleaf_dataset'),\n",
        "            show_progress=True, overwrite=True)\n",
        "\n",
        "# Register file dataset with AzureML\n",
        "ds = ds.register(workspace=ws, name=\"beanleaf\", description=\"Bean leaves with train, test and validation folders\", create_new_version=True)\n",
        "print(f'Dataset {ds.name} registered.')"
      ]
    }
  ],
  "metadata": {
    "accelerator": "GPU",
    "colab": {
      "authorship_tag": "ABX9TyN3DDB2KsCqw+9BU+ATcfCD",
      "include_colab_link": true,
      "name": "Leaf Disease Classification - Computer Vision.ipynb",
      "provenance": []
    },
    "kernelspec": {
      "display_name": "Python 3.9.7 ('env': venv)",
      "language": "python",
      "name": "python3"
    },
    "language_info": {
      "codemirror_mode": {
        "name": "ipython",
        "version": 3
      },
      "file_extension": ".py",
      "mimetype": "text/x-python",
      "name": "python",
      "nbconvert_exporter": "python",
      "pygments_lexer": "ipython3",
      "version": "3.9.7"
    },
    "vscode": {
      "interpreter": {
        "hash": "353b3b27b727b6bd6d2ff14a3cfe5fe1f5dd4da0574e2f8e60138a2d59c0439e"
      }
    }
  },
  "nbformat": 4,
  "nbformat_minor": 0
}

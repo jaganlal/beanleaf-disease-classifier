{
 "cells": [
  {
   "cell_type": "code",
   "execution_count": 10,
   "metadata": {},
   "outputs": [
    {
     "name": "stdout",
     "output_type": "stream",
     "text": [
      "Azure ML SDK Version:  1.45.0\n"
     ]
    }
   ],
   "source": [
    "import azureml\n",
    "from azureml.core import Workspace, Datastore, Experiment\n",
    "from azureml.core.dataset import Dataset\n",
    "from azureml.data.datapath import DataPath\n",
    "\n",
    "# check core SDK version number\n",
    "print(\"Azure ML SDK Version: \", azureml.core.VERSION)"
   ]
  },
  {
   "cell_type": "code",
   "execution_count": 8,
   "metadata": {},
   "outputs": [],
   "source": [
    "import os\n",
    "\n",
    "subscription_id = os.getenv(\"SUBSCRIPTION_ID\", default=\"d6233897-5c9f-47f9-8507-6d4ada2d5183\")\n",
    "resource_group = os.getenv(\"RESOURCE_GROUP\", default=\"RG_Jaganlal\")\n",
    "workspace_name = os.getenv(\"WORKSPACE_NAME\", default=\"beanleaf_classifier\")\n",
    "workspace_region = os.getenv(\"WORKSPACE_REGION\", default=\"centralus\")\n",
    "cluster_name = os.getenv(\"CLUSTER_NAME\", default=\"beanleaf-classifier-cluster\")\n",
    "dataset_path_in_datastore = os.getenv(\"BLOB_STORAGE_PATH\", default=\"beanleaf\")\n",
    "data_local_directory = os.getenv(\"DATA_LOCAL_DIRECTORY\", default=\"../0_data/beanleaf_dataset/\")\n",
    "experiment_name = os.getenv(\"EXPERIMENT_NAME\", default=\"beanleaf_classifier_experiment\")"
   ]
  },
  {
   "cell_type": "markdown",
   "metadata": {},
   "source": [
    "<h3>Access your workspace</h3>"
   ]
  },
  {
   "cell_type": "code",
   "execution_count": 3,
   "metadata": {},
   "outputs": [
    {
     "name": "stderr",
     "output_type": "stream",
     "text": [
      "Warning: Falling back to use azure cli login credentials.\n",
      "If you run your code in unattended mode, i.e., where you can't give a user input, then we recommend to use ServicePrincipalAuthentication or MsiAuthentication.\n",
      "Please refer to aka.ms/aml-notebook-auth for different authentication mechanisms in azureml-sdk.\n",
      "get_workspace error using subscription_id=d6233897-5c9f-47f9-8507-6d4ada2d5183, resource_group_name=RG_Jaganlal, workspace_name=beanleaf_classifier\n"
     ]
    },
    {
     "name": "stdout",
     "output_type": "stream",
     "text": [
      "Workspace not accessible. Change your parameters or create a new workspace below\n"
     ]
    }
   ],
   "source": [
    "try:\n",
    "    ws = Workspace(subscription_id = subscription_id, resource_group = resource_group, workspace_name = workspace_name)\n",
    "    # write the details of the workspace to a configuration file to the notebook library\n",
    "    ws.write_config()\n",
    "    print(\"Workspace configuration succeeded. Skip the workspace creation steps below\")\n",
    "except:\n",
    "    print(\"Workspace not accessible. Change your parameters or create a new workspace below\")"
   ]
  },
  {
   "cell_type": "markdown",
   "metadata": {},
   "source": [
    "<h3>Create a new workspace</h3>"
   ]
  },
  {
   "cell_type": "code",
   "execution_count": 4,
   "metadata": {},
   "outputs": [
    {
     "name": "stdout",
     "output_type": "stream",
     "text": [
      "Deploying KeyVault with name beanleafkeyvault8b059324.\n",
      "Deploying AppInsights with name beanleafinsightsccd4d1e4.\n",
      "Deployed AppInsights with name beanleafinsightsccd4d1e4. Took 14.68 seconds.\n",
      "Deploying StorageAccount with name beanleafstorage78ca4e858.\n",
      "Deployed StorageAccount with name beanleafstorage78ca4e858. Took 33.62 seconds.\n",
      "Deployed KeyVault with name beanleafkeyvault8b059324. Took 29.91 seconds.\n",
      "Deploying Workspace with name beanleaf_classifier.\n",
      "Deployed Workspace with name beanleaf_classifier. Took 47.11 seconds.\n"
     ]
    }
   ],
   "source": [
    "from azureml.core import Workspace\n",
    "\n",
    "# Create the workspace using the specified parameters\n",
    "ws = Workspace.create(name = workspace_name,\n",
    "                      subscription_id = subscription_id,\n",
    "                      resource_group = resource_group, \n",
    "                      location = workspace_region,\n",
    "                      create_resource_group = True,\n",
    "                      exist_ok = True)\n",
    "ws.get_details()\n",
    "\n",
    "# write the details of the workspace to a configuration file to the notebook library\n",
    "ws.write_config()"
   ]
  },
  {
   "cell_type": "markdown",
   "metadata": {},
   "source": [
    "<h3>Create compute resources for your training experiments</h3>"
   ]
  },
  {
   "cell_type": "code",
   "execution_count": 5,
   "metadata": {},
   "outputs": [
    {
     "name": "stdout",
     "output_type": "stream",
     "text": [
      "Creating new beanleaf-classifier-cluster\n",
      "InProgress.\n",
      "SucceededProvisioning operation finished, operation \"Succeeded\"\n",
      "Succeeded\n",
      "AmlCompute wait for completion finished\n",
      "\n",
      "Minimum number of nodes requested have been provisioned\n"
     ]
    }
   ],
   "source": [
    "from azureml.core.compute import ComputeTarget, AmlCompute\n",
    "from azureml.core.compute_target import ComputeTargetException\n",
    "\n",
    "# Verify that cluster does not exist already\n",
    "try:\n",
    "    cpu_cluster = ComputeTarget(workspace = ws, name = cluster_name)\n",
    "    print(\"Found existing \"+cluster_name)\n",
    "except ComputeTargetException:\n",
    "    print(\"Creating new \"+cluster_name)\n",
    "    \n",
    "    # Specify the configuration for the new cluster\n",
    "    compute_config = AmlCompute.provisioning_configuration(vm_size=\"STANDARD_D4A_V4\",\n",
    "                                                           min_nodes=0,\n",
    "                                                           max_nodes=2)\n",
    "\n",
    "    # Create the cluster with the specified name and configuration\n",
    "    cpu_cluster = ComputeTarget.create(ws, cluster_name, compute_config)\n",
    "    \n",
    "    # Wait for the cluster to complete, show the output log\n",
    "    cpu_cluster.wait_for_completion(show_output=True)"
   ]
  },
  {
   "cell_type": "code",
   "execution_count": 9,
   "metadata": {},
   "outputs": [
    {
     "name": "stdout",
     "output_type": "stream",
     "text": [
      "Compute Target: beanleaf-classifier-cluster\n",
      "Datastore: workspaceblobstore\n",
      "Experiment: beanleaf_classifier_experiment\n"
     ]
    }
   ],
   "source": [
    "ws = Workspace.get(name=workspace_name,\n",
    "                    subscription_id=subscription_id,\n",
    "                    resource_group=resource_group)\n",
    "# Connect to compute for training\n",
    "compute_target = ComputeTarget(workspace=ws, name=cluster_name)\n",
    "print(\"Compute Target:\", compute_target.name)\n",
    "\n",
    "# Connect to the datastore for the training images\n",
    "ds = Datastore.get_default(ws)\n",
    "print(\"Datastore:\", ds.name)\n",
    "\n",
    "# Connect to the experiment\n",
    "exp = Experiment(workspace=ws, name=experiment_name)\n",
    "print(\"Experiment:\", exp.name)"
   ]
  },
  {
   "cell_type": "code",
   "execution_count": null,
   "metadata": {},
   "outputs": [],
   "source": [
    "# Upload data to AzureML Datastore\n",
    "ds = ws.get_default_datastore()\n",
    "ds = Dataset.File.upload_directory(src_dir=data_local_directory,\n",
    "            target=DataPath(ds, 'beanleaf_dataset'),\n",
    "            show_progress=True, overwrite=True)\n",
    "\n",
    "# Register file dataset with AzureML\n",
    "ds = ds.register(workspace=ws, name=\"beanleaf\", description=\"Bean leaves with train, test and validation folders\", create_new_version=True)\n",
    "print(f'Dataset {ds.name} registered.')"
   ]
  }
 ],
 "metadata": {
  "kernelspec": {
   "display_name": "Python 3.9.7 ('env': venv)",
   "language": "python",
   "name": "python3"
  },
  "language_info": {
   "codemirror_mode": {
    "name": "ipython",
    "version": 3
   },
   "file_extension": ".py",
   "mimetype": "text/x-python",
   "name": "python",
   "nbconvert_exporter": "python",
   "pygments_lexer": "ipython3",
   "version": "3.9.7"
  },
  "orig_nbformat": 4,
  "vscode": {
   "interpreter": {
    "hash": "353b3b27b727b6bd6d2ff14a3cfe5fe1f5dd4da0574e2f8e60138a2d59c0439e"
   }
  }
 },
 "nbformat": 4,
 "nbformat_minor": 2
}

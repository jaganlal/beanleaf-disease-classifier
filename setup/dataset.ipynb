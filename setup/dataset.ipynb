{
 "cells": [
  {
   "cell_type": "code",
   "execution_count": 1,
   "metadata": {},
   "outputs": [
    {
     "name": "stdout",
     "output_type": "stream",
     "text": [
      "Azure ML SDK Version:  1.45.0\n"
     ]
    }
   ],
   "source": [
    "import azureml\n",
    "import json\n",
    "\n",
    "from azureml.core.model import Model, InferenceConfig\n",
    "from azureml.core import Workspace, Datastore, Experiment\n",
    "from azureml.core.dataset import Dataset\n",
    "\n",
    "# check core SDK version number\n",
    "print(\"Azure ML SDK Version: \", azureml.core.VERSION)"
   ]
  },
  {
   "cell_type": "code",
   "execution_count": null,
   "metadata": {},
   "outputs": [],
   "source": [
    "import os\n",
    "\n",
    "subscription_id = os.getenv(\"SUBSCRIPTION_ID\", default=\"d6233897-5c9f-47f9-8507-6d4ada2d5183\")\n",
    "resource_group = os.getenv(\"RESOURCE_GROUP\", default=\"RG_Jaganlal\")\n",
    "workspace_name = os.getenv(\"WORKSPACE_NAME\", default=\"beanleaf_classifier\")\n",
    "workspace_region = os.getenv(\"WORKSPACE_REGION\", default=\"centralus\")\n",
    "cluster_name = os.getenv(\"CLUSTER_NAME\", default=\"beanleaf-classifier-cluster\")\n",
    "dataset_path_in_datastore = os.getenv(\"BLOB_STORAGE_PATH\", default=\"beanleaf\")"
   ]
  },
  {
   "cell_type": "code",
   "execution_count": null,
   "metadata": {},
   "outputs": [],
   "source": [
    "ws = Workspace.from_config()\n",
    "ws"
   ]
  },
  {
   "cell_type": "code",
   "execution_count": null,
   "metadata": {},
   "outputs": [],
   "source": [
    "from azureml.core import ComputeTarget\n",
    "target = ComputeTarget(ws, cluster_name)\n",
    "target"
   ]
  },
  {
   "cell_type": "markdown",
   "metadata": {},
   "source": [
    "# Connect to Workspace"
   ]
  },
  {
   "cell_type": "code",
   "execution_count": null,
   "metadata": {},
   "outputs": [],
   "source": [
    "# Connect to compute for training\n",
    "compute_target = ComputeTarget(workspace=ws, name=cluster_name)\n",
    "print(\"Compute Target:\", compute_target.name)\n",
    "\n",
    "# Connect to the datastore for the training images\n",
    "ds = Datastore.get_default(ws)\n",
    "print(\"Datastore:\", ds.name)\n",
    "\n",
    "# Connect to the experiment\n",
    "exp = Experiment(workspace=ws, name='BeanClassifierExperiment')\n",
    "print(\"Experiment:\", exp.name)"
   ]
  },
  {
   "cell_type": "code",
   "execution_count": null,
   "metadata": {},
   "outputs": [],
   "source": [
    "from azureml.data.datapath import DataPath\n",
    "\n",
    "# Retrieve default datastore that's automatically created when a workspace is setup\n",
    "default_blob_store = ws.get_default_datastore()\n",
    "print(\"Default datastore's name: {}\".format(default_blob_store.name))\n",
    "data_path = DataPath(datastore=default_blob_store, path_on_datastore='cv_datapath')\n",
    "print('Data path:', data_path._name)"
   ]
  },
  {
   "cell_type": "markdown",
   "metadata": {},
   "source": [
    "# Download Beanleaf dataset"
   ]
  },
  {
   "cell_type": "code",
   "execution_count": null,
   "metadata": {},
   "outputs": [],
   "source": [
    "!wget https://storage.googleapis.com/ibeans/train.zip\n",
    "!wget https://storage.googleapis.com/ibeans/validation.zip\n",
    "!wget https://storage.googleapis.com/ibeans/test.zip"
   ]
  },
  {
   "cell_type": "code",
   "execution_count": null,
   "metadata": {},
   "outputs": [],
   "source": [
    "!mkdir beans"
   ]
  },
  {
   "cell_type": "code",
   "execution_count": null,
   "metadata": {},
   "outputs": [],
   "source": [
    "!unzip train.zip -d beans/\n",
    "!unzip test.zip -d beans/\n",
    "!unzip validation.zip -d beans/"
   ]
  },
  {
   "cell_type": "code",
   "execution_count": null,
   "metadata": {},
   "outputs": [],
   "source": [
    "from IPython.display import Image, display\n",
    "\n",
    "display(Image('beans/train/healthy/healthy_train.0.jpg'))"
   ]
  },
  {
   "cell_type": "markdown",
   "metadata": {},
   "source": [
    "# Upload Dataset"
   ]
  },
  {
   "cell_type": "markdown",
   "metadata": {},
   "source": [
    "### From local directory"
   ]
  },
  {
   "cell_type": "code",
   "execution_count": null,
   "metadata": {},
   "outputs": [],
   "source": [
    "# beanleaf_ds = Dataset.File.upload_directory(src_dir='/Users/jaganlalthoppe/workspace/mlops/azure/mlops-cv-model/data',\n",
    "#            target=DataPath(ds, data_path._name),\n",
    "#            show_progress=True)\n",
    "# beanleaf_ds\n",
    "\n",
    "dataset_path_in_datastore = \"beanleaf\"\n",
    "beanleaf_ds = default_blob_store.upload(\n",
    "    src_dir = './beans',\n",
    "    target_path = dataset_path_in_datastore,\n",
    "    overwrite = True\n",
    ")"
   ]
  },
  {
   "cell_type": "code",
   "execution_count": null,
   "metadata": {},
   "outputs": [],
   "source": [
    "data_ref = default_blob_store.path(dataset_path_in_datastore).as_mount()\n",
    "\n",
    "data_ref.path()"
   ]
  },
  {
   "cell_type": "code",
   "execution_count": null,
   "metadata": {},
   "outputs": [],
   "source": [
    "# retrieve an existing datastore in the workspace by name\n",
    "datastore = Datastore.get(ws, default_blob_store.name)\n",
    "datastore"
   ]
  },
  {
   "cell_type": "code",
   "execution_count": null,
   "metadata": {},
   "outputs": [],
   "source": [
    "ds"
   ]
  }
 ],
 "metadata": {
  "kernelspec": {
   "display_name": "Python 3.9.7 ('azureml-env')",
   "language": "python",
   "name": "python3"
  },
  "language_info": {
   "codemirror_mode": {
    "name": "ipython",
    "version": 3
   },
   "file_extension": ".py",
   "mimetype": "text/x-python",
   "name": "python",
   "nbconvert_exporter": "python",
   "pygments_lexer": "ipython3",
   "version": "3.9.7"
  },
  "orig_nbformat": 4,
  "vscode": {
   "interpreter": {
    "hash": "9e6e75f6c09cdd31724a6f99b4657e6fb2ea3eb30505782f5f4c6411602ce5a1"
   }
  }
 },
 "nbformat": 4,
 "nbformat_minor": 2
}
